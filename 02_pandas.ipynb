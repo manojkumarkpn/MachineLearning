{
 "cells": [
  {
   "cell_type": "markdown",
   "metadata": {},
   "source": [
    "# Pandas Basics\n",
    "- Pandas  is a newer package built on top of numpy\n",
    "- It provides an efficient implementation of a DataFrame\n",
    "- DataFrames are essentially multidimensional arrays with attached row and column labes\n"
   ]
  },
  {
   "cell_type": "code",
   "execution_count": 4,
   "metadata": {
    "collapsed": true
   },
   "outputs": [],
   "source": [
    "#import pandas\n",
    "import numpy as np\n",
    "import pandas as pd"
   ]
  },
  {
   "cell_type": "markdown",
   "metadata": {},
   "source": [
    "# Creating a series using Pandas"
   ]
  },
  {
   "cell_type": "code",
   "execution_count": 7,
   "metadata": {
    "collapsed": false
   },
   "outputs": [
    {
     "name": "stdout",
     "output_type": "stream",
     "text": [
      "0    22\n",
      "1    33\n",
      "2    44\n",
      "3    55\n",
      "dtype: int64 \n",
      "\n",
      "a    22\n",
      "b    33\n",
      "c    44\n",
      "d    55\n",
      "dtype: int64 \n",
      "\n"
     ]
    }
   ],
   "source": [
    "# using list\n",
    "labels = ['a', 'b' , 'c' , 'd']\n",
    "listdata = [22,33,44,55]\n",
    "df = pd.Series(listdata)\n",
    "print(df, \"\\n\")\n",
    "\n",
    "df = pd.Series(data = listdata, index=labels)\n",
    "print(df, \"\\n\")"
   ]
  },
  {
   "cell_type": "code",
   "execution_count": 9,
   "metadata": {
    "collapsed": false
   },
   "outputs": [
    {
     "name": "stdout",
     "output_type": "stream",
     "text": [
      "0    22\n",
      "1    33\n",
      "2    44\n",
      "3    55\n",
      "dtype: int32 \n",
      "\n",
      "a    22\n",
      "b    33\n",
      "c    44\n",
      "d    55\n",
      "dtype: int32 \n",
      "\n"
     ]
    }
   ],
   "source": [
    "# using numpy arrays\n",
    "npArr = np.array([22,33,44,55])\n",
    "\n",
    "df = pd.Series(npArr)\n",
    "print(df, \"\\n\")\n",
    "\n",
    "df = pd.Series(data = npArr, index=labels)\n",
    "print(df, \"\\n\")"
   ]
  },
  {
   "cell_type": "code",
   "execution_count": 10,
   "metadata": {
    "collapsed": false
   },
   "outputs": [
    {
     "name": "stdout",
     "output_type": "stream",
     "text": [
      "a    22\n",
      "b    33\n",
      "c    44\n",
      "d    55\n",
      "dtype: int64 \n",
      "\n",
      "a    22\n",
      "b    33\n",
      "c    44\n",
      "d    55\n",
      "dtype: int64 \n",
      "\n"
     ]
    }
   ],
   "source": [
    "# using dictionary\n",
    "pyDict = {'a':22,'b':33,'c':44,'d':55}\n",
    "\n",
    "df = pd.Series(pyDict)\n",
    "print(df, \"\\n\")\n",
    "\n",
    "df = pd.Series(data = pyDict, index=labels)\n",
    "print(df, \"\\n\")"
   ]
  },
  {
   "cell_type": "markdown",
   "metadata": {},
   "source": [
    "# Creating Dataframes\n",
    "- Dataframe is a collection of Series combiend together to share the same indexs"
   ]
  },
  {
   "cell_type": "code",
   "execution_count": 42,
   "metadata": {
    "collapsed": false
   },
   "outputs": [
    {
     "name": "stdout",
     "output_type": "stream",
     "text": [
      "        Col1      Col2      Col3      Col4      Col5      Col6\n",
      "11  1.624345 -0.611756 -0.528172 -1.072969  0.865408 -2.301539\n",
      "22  1.744812 -0.761207  0.319039 -0.249370  1.462108 -2.060141\n",
      "33 -0.322417 -0.384054  1.133769 -1.099891 -0.172428 -0.877858\n",
      "44  0.042214  0.582815 -1.100619  1.144724  0.901591  0.502494\n",
      "55  0.900856 -0.683728 -0.122890 -0.935769 -0.267888  0.530355 \n",
      "\n",
      "<class 'pandas.core.series.Series'>\n",
      "11    1.624345\n",
      "22    1.744812\n",
      "33   -0.322417\n",
      "44    0.042214\n",
      "55    0.900856\n",
      "Name: Col1, dtype: float64 \n",
      "\n",
      "<class 'pandas.core.frame.DataFrame'>\n",
      "        Col1      Col2\n",
      "11  1.624345 -0.611756\n",
      "22  1.744812 -0.761207\n",
      "33 -0.322417 -0.384054\n",
      "44  0.042214  0.582815\n",
      "55  0.900856 -0.683728 \n",
      "\n",
      "        Col1      Col2      Col3      Col4      Col5      Col6      Col7\n",
      "11  1.624345 -0.611756 -0.528172 -1.072969  0.865408 -2.301539 -1.436131\n",
      "22  1.744812 -0.761207  0.319039 -0.249370  1.462108 -2.060141 -0.598033\n",
      "33 -0.322417 -0.384054  1.133769 -1.099891 -0.172428 -0.877858 -1.050287\n",
      "44  0.042214  0.582815 -1.100619  1.144724  0.901591  0.502494  1.404085\n",
      "55  0.900856 -0.683728 -0.122890 -0.935769 -0.267888  0.530355  0.262467 \n",
      "\n",
      "        Col1      Col2      Col3      Col4      Col5      Col6\n",
      "11  1.624345 -0.611756 -0.528172 -1.072969  0.865408 -2.301539\n",
      "22  1.744812 -0.761207  0.319039 -0.249370  1.462108 -2.060141\n",
      "33 -0.322417 -0.384054  1.133769 -1.099891 -0.172428 -0.877858\n",
      "44  0.042214  0.582815 -1.100619  1.144724  0.901591  0.502494\n",
      "55  0.900856 -0.683728 -0.122890 -0.935769 -0.267888  0.530355 \n",
      "\n",
      "Col1    0.900856\n",
      "Col2   -0.683728\n",
      "Col3   -0.122890\n",
      "Col4   -0.935769\n",
      "Col5   -0.267888\n",
      "Col6    0.530355\n",
      "Name: 55, dtype: float64 \n",
      "\n",
      "Col1    0.900856\n",
      "Col2   -0.683728\n",
      "Col3   -0.122890\n",
      "Col4   -0.935769\n",
      "Col5   -0.267888\n",
      "Col6    0.530355\n",
      "Name: 55, dtype: float64 \n",
      "\n",
      "     Col1   Col2   Col3   Col4   Col5   Col6\n",
      "11   True  False  False  False   True  False\n",
      "22   True  False  False  False   True  False\n",
      "33  False  False   True  False  False  False\n",
      "44  False  False  False   True   True  False\n",
      "55   True  False  False  False  False  False \n",
      "\n",
      "        Col1      Col2      Col3      Col4      Col5      Col6\n",
      "11  1.624345 -0.611756 -0.528172 -1.072969  0.865408 -2.301539\n",
      "22  1.744812 -0.761207  0.319039 -0.249370  1.462108 -2.060141\n",
      "33 -0.322417 -0.384054  1.133769 -1.099891 -0.172428 -0.877858\n",
      "44  0.042214  0.582815 -1.100619  1.144724  0.901591  0.502494\n",
      "55  0.900856 -0.683728 -0.122890 -0.935769 -0.267888  0.530355 \n",
      "\n",
      "     Col1   Col2   Col3   Col4   Col5   Col6\n",
      "11  False  False  False  False  False  False\n",
      "22  False  False  False  False  False  False\n",
      "33  False  False  False  False  False  False\n",
      "44  False  False  False  False  False  False\n",
      "55  False  False  False  False  False  False \n",
      "\n",
      "        Col1      Col2      Col3      Col4      Col5      Col6\n",
      "11  1.624345 -0.611756 -0.528172 -1.072969  0.865408 -2.301539\n",
      "22  1.744812 -0.761207  0.319039 -0.249370  1.462108 -2.060141\n",
      "33 -0.322417 -0.384054  1.133769 -1.099891 -0.172428 -0.877858\n",
      "44  0.042214  0.582815 -1.100619  1.144724  0.901591  0.502494\n",
      "55  0.900856 -0.683728 -0.122890 -0.935769 -0.267888  0.530355 \n",
      "\n",
      "11    False\n",
      "22    False\n",
      "33    False\n",
      "44    False\n",
      "55    False\n",
      "dtype: bool \n",
      "\n",
      "        Col1      Col2      Col3      Col4      Col5      Col6\n",
      "11  1.624345 -0.611756 -0.528172 -1.072969  0.865408 -2.301539\n",
      "22  1.744812 -0.761207  0.319039 -0.249370  1.462108 -2.060141\n",
      "33 -0.322417 -0.384054  1.133769 -1.099891 -0.172428 -0.877858\n",
      "44  0.042214  0.582815 -1.100619  1.144724  0.901591  0.502494\n",
      "55  0.900856 -0.683728 -0.122890 -0.935769 -0.267888  0.530355 \n",
      "\n"
     ]
    }
   ],
   "source": [
    "from numpy.random import randn\n",
    "np.random.seed(1)\n",
    "df = pd.DataFrame(randn(5,6),index = ['11','22','33','44','55'], columns = [\"Col1\",\"Col2\",\"Col3\",\"Col4\",\"Col5\",\"Col6\"])\n",
    "print(df, \"\\n\")\n",
    "\n",
    "print(type(df[\"Col1\"]))\n",
    "print(df[\"Col1\"], \"\\n\") # Column selection\n",
    "\n",
    "print(type(df[[\"Col1\",\"Col2\"]]))\n",
    "print(df[[\"Col1\",\"Col2\"]], \"\\n\") # Multiple Column selection\n",
    "\n",
    "df['Col7'] = df['Col5'] + df['Col6'] # Adding a new column \n",
    "print(df, \"\\n\")\n",
    "\n",
    "df = df.drop('Col7',axis=1) # Removing column from Dataframe - axis=0 -> drop rows , axis=1 -> drop columns\n",
    "print(df, \"\\n\")\n",
    "\n",
    "print(df.loc['55'], \"\\n\") #Selecting rows\n",
    "\n",
    "print(df.iloc[5-1], \"\\n\") #Selecting rows from location\n",
    "\n",
    "print(df>0.6, \"\\n\") # Conditional statements\n",
    "\n",
    "print(df.dropna(), \"\\n\") # Drop missing data\n",
    "\n",
    "print(df.isnull(), \"\\n\") # check for null\n",
    "\n",
    "print(df.fillna(value=0), \"\\n\") # Drop missing data\n",
    "\n",
    "print(df.duplicated(), \"\\n\") # check duplicates\n",
    "\n",
    "print(df.drop_duplicates(), \"\\n\") # Drop duplicates"
   ]
  },
  {
   "cell_type": "markdown",
   "metadata": {},
   "source": [
    "# Group by"
   ]
  },
  {
   "cell_type": "markdown",
   "metadata": {},
   "source": [
    "# Merging "
   ]
  },
  {
   "cell_type": "markdown",
   "metadata": {},
   "source": [
    "# Joining"
   ]
  },
  {
   "cell_type": "markdown",
   "metadata": {},
   "source": [
    "# Concatenating"
   ]
  },
  {
   "cell_type": "code",
   "execution_count": null,
   "metadata": {
    "collapsed": true
   },
   "outputs": [],
   "source": []
  }
 ],
 "metadata": {
  "kernelspec": {
   "display_name": "Python 3",
   "language": "python",
   "name": "python3"
  },
  "language_info": {
   "codemirror_mode": {
    "name": "ipython",
    "version": 3
   },
   "file_extension": ".py",
   "mimetype": "text/x-python",
   "name": "python",
   "nbconvert_exporter": "python",
   "pygments_lexer": "ipython3",
   "version": "3.6.12"
  }
 },
 "nbformat": 4,
 "nbformat_minor": 2
}
