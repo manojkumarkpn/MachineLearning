{
 "cells": [
  {
   "cell_type": "markdown",
   "metadata": {},
   "source": [
    "# Numpy in Detail"
   ]
  },
  {
   "cell_type": "raw",
   "metadata": {},
   "source": [
    "Numpy (Numerical Python) is an effiecient way to store and operate on dense data buffers.\n",
    "Numpy are like a Pythos built-in list type which provides more effcient and storage and data operations as the arrays grow larger in size\n",
    " It is core of the nearly entire ecosystem of data science tools in Python"
   ]
  },
  {
   "cell_type": "code",
   "execution_count": 1,
   "metadata": {
    "collapsed": false
   },
   "outputs": [
    {
     "data": {
      "text/plain": [
       "array([4.2, 5. , 6.5, 7. , 8.9])"
      ]
     },
     "execution_count": 1,
     "metadata": {},
     "output_type": "execute_result"
    }
   ],
   "source": [
    "#Import Numpy\n",
    "import numpy as np\n",
    "np.array([4.2,5,6.5,7,8.9])"
   ]
  },
  {
   "cell_type": "code",
   "execution_count": 25,
   "metadata": {
    "collapsed": false
   },
   "outputs": [
    {
     "name": "stdout",
     "output_type": "stream",
     "text": [
      "[2.  3.6 4.  5. ] float64\n",
      "[2 3 4 5] int8\n",
      "[2 3 4 5] int64\n",
      "[2.3 8.  4.  5. ] float32\n",
      "[2.3 8.  4.  5. ] float64\n",
      "['2.3' '8' '4' '5'] <U3 str\n"
     ]
    }
   ],
   "source": [
    "#Data Types in numpy\n",
    "result = np.array([2,3.6,4,5]) #Default\n",
    "print(result,result.dtype)\n",
    "\n",
    "result = np.array([2,3,4,5], dtype=\"int8\") #Integer 8 array\n",
    "print(result,result.dtype)\n",
    "\n",
    "result = np.array([2,3,4,5], dtype=\"int64\") #Default Integer 64 array\n",
    "print(result,result.dtype)\n",
    "\n",
    "result = np.array([2.3,8,4,5], dtype=\"float32\") #float 32 array\n",
    "print(result,result.dtype)\n",
    "\n",
    "result = np.array([2.3,8,4,5], dtype=\"float64\") #float 64 array\n",
    "print(result,result.dtype)\n",
    "\n",
    "\n",
    "result = np.array([2.3,8,4,5], dtype=\"str\") #String array\n",
    "print(result,result.dtype,\"str\")"
   ]
  },
  {
   "cell_type": "code",
   "execution_count": 46,
   "metadata": {
    "collapsed": false
   },
   "outputs": [
    {
     "name": "stdout",
     "output_type": "stream",
     "text": [
      "[0 0 0 0 0 0 0 0 0 0 0 0 0 0 0 0 0 0 0 0] int32 \n",
      "\n",
      "[[0. 0. 0. 0. 0. 0. 0. 0. 0. 0.]\n",
      " [0. 0. 0. 0. 0. 0. 0. 0. 0. 0.]\n",
      " [0. 0. 0. 0. 0. 0. 0. 0. 0. 0.]\n",
      " [0. 0. 0. 0. 0. 0. 0. 0. 0. 0.]\n",
      " [0. 0. 0. 0. 0. 0. 0. 0. 0. 0.]\n",
      " [0. 0. 0. 0. 0. 0. 0. 0. 0. 0.]] float64 \n",
      "\n",
      "[[1. 1. 1. 1. 1. 1. 1. 1. 1. 1. 1. 1.]\n",
      " [1. 1. 1. 1. 1. 1. 1. 1. 1. 1. 1. 1.]\n",
      " [1. 1. 1. 1. 1. 1. 1. 1. 1. 1. 1. 1.]\n",
      " [1. 1. 1. 1. 1. 1. 1. 1. 1. 1. 1. 1.]] float64 \n",
      "\n",
      "[[4.15 4.15 4.15 4.15]\n",
      " [4.15 4.15 4.15 4.15]\n",
      " [4.15 4.15 4.15 4.15]\n",
      " [4.15 4.15 4.15 4.15]\n",
      " [4.15 4.15 4.15 4.15]\n",
      " [4.15 4.15 4.15 4.15]] float64 \n",
      "\n",
      "[ 0  3  6  9 12 15 18 21 24 27 30 33 36 39] int32 \n",
      "\n",
      "[0.  0.5 1.  1.5 2. ] float64 \n",
      "\n"
     ]
    }
   ],
   "source": [
    "#Creating arrays - single and multidiemnstional\n",
    "result = np.zeros(20, dtype=\"int\") #Integer array filled with zeros\n",
    "print(result,result.dtype,\"\\n\")\n",
    "\n",
    "result = np.zeros((6,10), dtype=\"float\") #Integer array filled with zeros\n",
    "print(result,result.dtype,\"\\n\")\n",
    "\n",
    "result = np.ones((4,12), dtype=\"float\") #float array filled with 1s\n",
    "print(result,result.dtype,\"\\n\")\n",
    "\n",
    "result = np.full((6,4), 4.15) #float array filled with 4.15\n",
    "print(result,result.dtype,\"\\n\")\n",
    "\n",
    "result = np.arange(0,40,3) #array filled with a linear sequence, stepping by 3\n",
    "print(result,result.dtype,\"\\n\")\n",
    "\n",
    "result = np.linspace(0,2,5) #array of five values evenly soaced between 0 and 2\n",
    "print(result,result.dtype,\"\\n\")"
   ]
  },
  {
   "cell_type": "code",
   "execution_count": 51,
   "metadata": {
    "collapsed": false
   },
   "outputs": [
    {
     "name": "stdout",
     "output_type": "stream",
     "text": [
      "[[0.62585519 0.94858954 0.96386637]\n",
      " [0.31318805 0.67311707 0.28312517]\n",
      " [0.42306181 0.87955659 0.39982745]] float64 \n",
      "\n",
      "[[ 1.38518939 -2.04361462  0.11314428]\n",
      " [-0.50306258 -1.62065112  0.79584813]\n",
      " [-1.84144124  0.32273456 -0.49907856]] float64 \n",
      "\n",
      "[[18 17 18 13]\n",
      " [13 16 13 17]\n",
      " [16 18 17 11]\n",
      " [14 17 19 15]] int32 \n",
      "\n",
      "[[1. 0. 0.]\n",
      " [0. 1. 0.]\n",
      " [0. 0. 1.]] float64 \n",
      "\n"
     ]
    }
   ],
   "source": [
    "# Multi dimenstional array\n",
    "result = np.random.random((3,3)) #3*3 array of unifromly distributed random values between 0 and 1\n",
    "print(result,result.dtype,\"\\n\")\n",
    "\n",
    "result = np.random.normal(0,1,(3,3)) #3*3 array of unifromly distributed random values with mean 0 and SD 1\n",
    "print(result,result.dtype,\"\\n\")\n",
    "\n",
    "result = np.random.randint(10,20,(4,4)) #3*3 array of unifromly distributed random values with mean 0 and SD 1\n",
    "print(result,result.dtype,\"\\n\")\n",
    "\n",
    "result = np.eye(3) #3*3 array of Identity matrix\n",
    "print(result,result.dtype,\"\\n\")"
   ]
  },
  {
   "cell_type": "code",
   "execution_count": 65,
   "metadata": {
    "collapsed": false
   },
   "outputs": [
    {
     "name": "stdout",
     "output_type": "stream",
     "text": [
      "[2 3 4 5] int32 \n",
      "\n",
      "2 \n",
      "\n",
      "5 \n",
      "\n",
      "[[12 14 13 10]\n",
      " [10 12 15 17]\n",
      " [12 11 19 18]\n",
      " [15 17 15 18]] int32 \n",
      "\n",
      "11 \n",
      "\n",
      "[[1 2 3]\n",
      " [4 5 6]\n",
      " [7 8 9]]\n"
     ]
    },
    {
     "data": {
      "text/plain": [
       "array([[2],\n",
       "       [5],\n",
       "       [7]])"
      ]
     },
     "execution_count": 65,
     "metadata": {},
     "output_type": "execute_result"
    }
   ],
   "source": [
    "#Array indexing \n",
    "result = np.array([2,3,4,5]) #Default\n",
    "print(result,result.dtype,\"\\n\")\n",
    "\n",
    "print(result[0],\"\\n\") #First element\n",
    "print(result[-1],\"\\n\") #Last element\n",
    "\n",
    "result = np.random.randint(10,20,(4,4)) #3*3 array of unifromly distributed random values with mean 0 and SD 1\n",
    "print(result,result.dtype,\"\\n\")\n",
    "print(result[2,1],\"\\n\")\n",
    "\n",
    "grid = np.arange(1,10,1).reshape(3,3)\n",
    "print(grid)\n",
    "\n",
    "x = np.array([2,5,7])\n",
    "x.shape                # X is a vector\n",
    "\n",
    "x.reshape((3,1))"
   ]
  },
  {
   "cell_type": "code",
   "execution_count": 73,
   "metadata": {
    "collapsed": false
   },
   "outputs": [
    {
     "name": "stdout",
     "output_type": "stream",
     "text": [
      "Python Arthmetic operations\n",
      "[0 1 2 3]\n",
      "[5 6 7 8]\n",
      "[-5 -4 -3 -2]\n",
      "[0 2 4 6]\n",
      "[0.  0.5 1.  1.5]\n",
      "[0 0 1 1]\n",
      "[ 0 -1 -2 -3]\n",
      "[0 1 4 9]\n",
      "[0 1 0 1]\n",
      "[-1.   -2.25 -4.   -6.25]\n",
      "\n",
      "\n",
      "Numpy Arthmetic operations\n",
      "[0 1 2 3]\n",
      "[5 6 7 8]\n",
      "[-5 -4 -3 -2]\n",
      "[0 2 4 6]\n",
      "[0.  0.5 1.  1.5]\n",
      "[0 0 1 1]\n",
      "[ 0 -1 -2 -3]\n",
      "[0 1 4 9]\n",
      "[0 1 0 1]\n"
     ]
    }
   ],
   "source": [
    "#Numpy's UFuncs exist in two flavors\n",
    "#unary ufuncs - Operate on a single input\n",
    "#Binary ufuncs - Opeate on two inputs \n",
    "\n",
    "print(\"Python Arthmetic operations\")\n",
    "x = np.arange(4)\n",
    "print(x)\n",
    "print(x+5)\n",
    "print(x-5)\n",
    "print(x*2)\n",
    "print(x/2)\n",
    "print(x//2)\n",
    "print(-x)\n",
    "print(x ** 2)\n",
    "print(x % 2)\n",
    "print(-(0.5*x+1) ** 2)\n",
    "print(\"\\n\")\n",
    "\n",
    "print(\"Numpy Arthmetic operations\")\n",
    "print(x)\n",
    "print(np.add(x,5))\n",
    "print(np.subtract(x,5))\n",
    "print(np.multiply(x,2))\n",
    "print(np.divide(x,2))\n",
    "print(np.floor_divide(x,2))\n",
    "print(np.negative(x))      \n",
    "print(np.power(x,2))\n",
    "print(np.mod(x,2))"
   ]
  },
  {
   "cell_type": "code",
   "execution_count": 78,
   "metadata": {
    "collapsed": false
   },
   "outputs": [
    {
     "name": "stdout",
     "output_type": "stream",
     "text": [
      "Trigonmetric functions\n",
      "[0.         1.57079633 3.14159265]\n",
      "[0.0000000e+00 1.0000000e+00 1.2246468e-16]\n",
      "[ 1.000000e+00  6.123234e-17 -1.000000e+00]\n",
      "[ 0.00000000e+00  1.63312394e+16 -1.22464680e-16]\n",
      "\n",
      "\n",
      "Trig functions on arrays\n",
      "[-1, 0, 1]\n",
      "[-1.57079633  0.          1.57079633]\n",
      "[3.14159265 1.57079633 0.        ]\n",
      "[-0.78539816  0.          0.78539816]\n"
     ]
    }
   ],
   "source": [
    "#Trigonmetric functions\n",
    "print(\"Trigonmetric functions\")\n",
    "x = np.linspace(0,np.pi,3)\n",
    "\n",
    "print(x)\n",
    "print(np.sin(x))\n",
    "print(np.cos(x))\n",
    "print(np.tan(x))\n",
    "print(\"\\n\")\n",
    "#Trig functions on arrays\n",
    "print(\"Trig functions on arrays\")\n",
    "x = [-1,0,1]\n",
    "print(x)\n",
    "print(np.arcsin(x))\n",
    "print(np.arccos(x))\n",
    "print(np.arctan(x))\n"
   ]
  },
  {
   "cell_type": "code",
   "execution_count": 79,
   "metadata": {
    "collapsed": false
   },
   "outputs": [
    {
     "name": "stdout",
     "output_type": "stream",
     "text": [
      "[10  2 11]\n"
     ]
    }
   ],
   "source": [
    "#Broadcasting - It is simpy a set of rules for applying binary ufuncs(add, sub, multiply etc) on arrays of different sizes\n",
    "\n",
    "a = np.array([2,1,5])\n",
    "b = np.array([8,1,6])\n",
    "print(a+b)"
   ]
  },
  {
   "cell_type": "code",
   "execution_count": 83,
   "metadata": {
    "collapsed": false
   },
   "outputs": [
    {
     "name": "stdout",
     "output_type": "stream",
     "text": [
      "[ True False False False]\n",
      "[False  True  True  True]\n",
      "[ True False False False]\n",
      "[False  True  True  True]\n",
      "[ True  True  True  True]\n",
      "[False False False False]\n"
     ]
    }
   ],
   "source": [
    "#Comparision operators\n",
    "\n",
    "x = np.array([2,4,6,8])\n",
    "print(x<3)\n",
    "print(x>3)\n",
    "print(x<=3)\n",
    "print(x>=3)\n",
    "print(x!=3)\n",
    "print(x==3)"
   ]
  },
  {
   "cell_type": "code",
   "execution_count": null,
   "metadata": {
    "collapsed": true
   },
   "outputs": [],
   "source": []
  }
 ],
 "metadata": {
  "kernelspec": {
   "display_name": "Python 3",
   "language": "python",
   "name": "python3"
  },
  "language_info": {
   "codemirror_mode": {
    "name": "ipython",
    "version": 3
   },
   "file_extension": ".py",
   "mimetype": "text/x-python",
   "name": "python",
   "nbconvert_exporter": "python",
   "pygments_lexer": "ipython3",
   "version": "3.6.12"
  }
 },
 "nbformat": 4,
 "nbformat_minor": 2
}
